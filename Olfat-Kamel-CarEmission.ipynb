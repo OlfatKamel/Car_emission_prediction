{
 "cells": [
  {
   "cell_type": "markdown",
   "metadata": {},
   "source": [
    "# import libraries"
   ]
  },
  {
   "cell_type": "code",
   "execution_count": 274,
   "metadata": {},
   "outputs": [],
   "source": [
    "import numpy as np\n",
    "import pandas as pd\n",
    "import math \n",
    "from sklearn.preprocessing import MinMaxScaler\n",
    "import matplotlib.pyplot as plt\n",
    "%matplotlib inline\n",
    "matplotlib.rcParams[\"figure.figsize\"]=(20,10)\n",
    "plt.style.use('ggplot')\n"
   ]
  },
  {
   "cell_type": "markdown",
   "metadata": {},
   "source": [
    "# load dataset"
   ]
  },
  {
   "cell_type": "code",
   "execution_count": 233,
   "metadata": {},
   "outputs": [],
   "source": [
    "df=pd.read_csv('dataset/car-em.csv', encoding = \"ISO-8859-1\")\n"
   ]
  },
  {
   "cell_type": "markdown",
   "metadata": {},
   "source": [
    "# exploring data\n"
   ]
  },
  {
   "cell_type": "code",
   "execution_count": 235,
   "metadata": {},
   "outputs": [
    {
     "data": {
      "text/plain": [
       "(5118, 34)"
      ]
     },
     "execution_count": 235,
     "metadata": {},
     "output_type": "execute_result"
    }
   ],
   "source": [
    "df.shape\n"
   ]
  },
  {
   "cell_type": "code",
   "execution_count": 236,
   "metadata": {},
   "outputs": [
    {
     "data": {
      "text/html": [
       "<div>\n",
       "<style scoped>\n",
       "    .dataframe tbody tr th:only-of-type {\n",
       "        vertical-align: middle;\n",
       "    }\n",
       "\n",
       "    .dataframe tbody tr th {\n",
       "        vertical-align: top;\n",
       "    }\n",
       "\n",
       "    .dataframe thead th {\n",
       "        text-align: right;\n",
       "    }\n",
       "</style>\n",
       "<table border=\"1\" class=\"dataframe\">\n",
       "  <thead>\n",
       "    <tr style=\"text-align: right;\">\n",
       "      <th></th>\n",
       "      <th>Manufacturer</th>\n",
       "      <th>Model</th>\n",
       "      <th>Description</th>\n",
       "      <th>Transmission</th>\n",
       "      <th>Engine Capacity</th>\n",
       "      <th>Fuel Type</th>\n",
       "      <th>Electric energy consumption Miles/kWh</th>\n",
       "      <th>wh/km</th>\n",
       "      <th>Maximum range (Km)</th>\n",
       "      <th>Maximum range (Miles)</th>\n",
       "      <th>...</th>\n",
       "      <th>Emissions NOx [mg/km]</th>\n",
       "      <th>THC + NOx Emissions [mg/km]</th>\n",
       "      <th>Particulates [No.] [mg/km]</th>\n",
       "      <th>Unnamed: 27</th>\n",
       "      <th>Unnamed: 28</th>\n",
       "      <th>Unnamed: 29</th>\n",
       "      <th>Unnamed: 30</th>\n",
       "      <th>Unnamed: 31</th>\n",
       "      <th>Unnamed: 32</th>\n",
       "      <th>Unnamed: 33</th>\n",
       "    </tr>\n",
       "  </thead>\n",
       "  <tbody>\n",
       "    <tr>\n",
       "      <th>604</th>\n",
       "      <td>SEAT</td>\n",
       "      <td>Leon 5 Door</td>\n",
       "      <td>1.6 TDI 115PS 7speed DSG SE Technology</td>\n",
       "      <td>D7</td>\n",
       "      <td>1598.0</td>\n",
       "      <td>Diesel</td>\n",
       "      <td>NaN</td>\n",
       "      <td>NaN</td>\n",
       "      <td>NaN</td>\n",
       "      <td>NaN</td>\n",
       "      <td>...</td>\n",
       "      <td>47.0</td>\n",
       "      <td>69.0</td>\n",
       "      <td>0.00</td>\n",
       "      <td>NaN</td>\n",
       "      <td>NaN</td>\n",
       "      <td>NaN</td>\n",
       "      <td>NaN</td>\n",
       "      <td>NaN</td>\n",
       "      <td>NaN</td>\n",
       "      <td>NaN</td>\n",
       "    </tr>\n",
       "    <tr>\n",
       "      <th>2379</th>\n",
       "      <td>MINI</td>\n",
       "      <td>Countryman R60, From September 2010</td>\n",
       "      <td>MINI Cooper SD ALL4 - 17'' tyres</td>\n",
       "      <td>A6</td>\n",
       "      <td>1995.0</td>\n",
       "      <td>Diesel</td>\n",
       "      <td>NaN</td>\n",
       "      <td>NaN</td>\n",
       "      <td>NaN</td>\n",
       "      <td>NaN</td>\n",
       "      <td>...</td>\n",
       "      <td>59.0</td>\n",
       "      <td>114.0</td>\n",
       "      <td>0.40</td>\n",
       "      <td>NaN</td>\n",
       "      <td>NaN</td>\n",
       "      <td>NaN</td>\n",
       "      <td>NaN</td>\n",
       "      <td>NaN</td>\n",
       "      <td>NaN</td>\n",
       "      <td>NaN</td>\n",
       "    </tr>\n",
       "    <tr>\n",
       "      <th>2582</th>\n",
       "      <td>NISSAN</td>\n",
       "      <td>Leaf, 2016</td>\n",
       "      <td>Leaf 24kWh</td>\n",
       "      <td>NaN</td>\n",
       "      <td>NaN</td>\n",
       "      <td>Electricity</td>\n",
       "      <td>4.1</td>\n",
       "      <td>150.0</td>\n",
       "      <td>199.0</td>\n",
       "      <td>124.0</td>\n",
       "      <td>...</td>\n",
       "      <td>NaN</td>\n",
       "      <td>NaN</td>\n",
       "      <td>NaN</td>\n",
       "      <td>NaN</td>\n",
       "      <td>NaN</td>\n",
       "      <td>NaN</td>\n",
       "      <td>NaN</td>\n",
       "      <td>NaN</td>\n",
       "      <td>NaN</td>\n",
       "      <td>NaN</td>\n",
       "    </tr>\n",
       "    <tr>\n",
       "      <th>2688</th>\n",
       "      <td>FORD</td>\n",
       "      <td>Fiesta, Model Year Pre 2017¼</td>\n",
       "      <td>1.0 EcoBoost (100PS) Stop-Start</td>\n",
       "      <td>M5</td>\n",
       "      <td>998.0</td>\n",
       "      <td>Petrol</td>\n",
       "      <td>NaN</td>\n",
       "      <td>NaN</td>\n",
       "      <td>NaN</td>\n",
       "      <td>NaN</td>\n",
       "      <td>...</td>\n",
       "      <td>41.0</td>\n",
       "      <td>NaN</td>\n",
       "      <td>NaN</td>\n",
       "      <td>NaN</td>\n",
       "      <td>NaN</td>\n",
       "      <td>NaN</td>\n",
       "      <td>NaN</td>\n",
       "      <td>NaN</td>\n",
       "      <td>NaN</td>\n",
       "      <td>NaN</td>\n",
       "    </tr>\n",
       "    <tr>\n",
       "      <th>4290</th>\n",
       "      <td>BMW</td>\n",
       "      <td>4 Series Coupé F32, From March 2016</td>\n",
       "      <td>420i xDrive - 18'' &amp; 19'' tyres</td>\n",
       "      <td>M6</td>\n",
       "      <td>1998.0</td>\n",
       "      <td>Petrol</td>\n",
       "      <td>NaN</td>\n",
       "      <td>NaN</td>\n",
       "      <td>NaN</td>\n",
       "      <td>NaN</td>\n",
       "      <td>...</td>\n",
       "      <td>25.0</td>\n",
       "      <td>NaN</td>\n",
       "      <td>NaN</td>\n",
       "      <td>NaN</td>\n",
       "      <td>NaN</td>\n",
       "      <td>NaN</td>\n",
       "      <td>NaN</td>\n",
       "      <td>NaN</td>\n",
       "      <td>NaN</td>\n",
       "      <td>NaN</td>\n",
       "    </tr>\n",
       "    <tr>\n",
       "      <th>3204</th>\n",
       "      <td>MERCEDES-BENZ</td>\n",
       "      <td>A-Class, Model Year 2018</td>\n",
       "      <td>A 160 with 18'' rear wheels</td>\n",
       "      <td>M6</td>\n",
       "      <td>1595.0</td>\n",
       "      <td>Petrol</td>\n",
       "      <td>NaN</td>\n",
       "      <td>NaN</td>\n",
       "      <td>NaN</td>\n",
       "      <td>NaN</td>\n",
       "      <td>...</td>\n",
       "      <td>24.0</td>\n",
       "      <td>NaN</td>\n",
       "      <td>NaN</td>\n",
       "      <td>NaN</td>\n",
       "      <td>NaN</td>\n",
       "      <td>NaN</td>\n",
       "      <td>NaN</td>\n",
       "      <td>NaN</td>\n",
       "      <td>NaN</td>\n",
       "      <td>NaN</td>\n",
       "    </tr>\n",
       "    <tr>\n",
       "      <th>2660</th>\n",
       "      <td>KIA</td>\n",
       "      <td>Niro</td>\n",
       "      <td>'2' 1.6 GDi 139bhp DCT</td>\n",
       "      <td>DCT6</td>\n",
       "      <td>1580.0</td>\n",
       "      <td>Petrol</td>\n",
       "      <td>NaN</td>\n",
       "      <td>NaN</td>\n",
       "      <td>NaN</td>\n",
       "      <td>NaN</td>\n",
       "      <td>...</td>\n",
       "      <td>4.0</td>\n",
       "      <td>NaN</td>\n",
       "      <td>NaN</td>\n",
       "      <td>NaN</td>\n",
       "      <td>NaN</td>\n",
       "      <td>NaN</td>\n",
       "      <td>NaN</td>\n",
       "      <td>NaN</td>\n",
       "      <td>NaN</td>\n",
       "      <td>NaN</td>\n",
       "    </tr>\n",
       "    <tr>\n",
       "      <th>270</th>\n",
       "      <td>AUDI</td>\n",
       "      <td>A3 Sportback</td>\n",
       "      <td>1.6 TDI 116PS 7speed S-tronic 16'' wheels</td>\n",
       "      <td>D7</td>\n",
       "      <td>1598.0</td>\n",
       "      <td>Diesel</td>\n",
       "      <td>NaN</td>\n",
       "      <td>NaN</td>\n",
       "      <td>NaN</td>\n",
       "      <td>NaN</td>\n",
       "      <td>...</td>\n",
       "      <td>40.0</td>\n",
       "      <td>66.0</td>\n",
       "      <td>0.24</td>\n",
       "      <td>NaN</td>\n",
       "      <td>NaN</td>\n",
       "      <td>NaN</td>\n",
       "      <td>NaN</td>\n",
       "      <td>NaN</td>\n",
       "      <td>NaN</td>\n",
       "      <td>NaN</td>\n",
       "    </tr>\n",
       "    <tr>\n",
       "      <th>4095</th>\n",
       "      <td>SKODA</td>\n",
       "      <td>Superb Saloon</td>\n",
       "      <td>2.0 TSI 220PS DSG Stop-Start SE L, Executive, ...</td>\n",
       "      <td>D6</td>\n",
       "      <td>1984.0</td>\n",
       "      <td>Petrol</td>\n",
       "      <td>NaN</td>\n",
       "      <td>NaN</td>\n",
       "      <td>NaN</td>\n",
       "      <td>NaN</td>\n",
       "      <td>...</td>\n",
       "      <td>24.0</td>\n",
       "      <td>NaN</td>\n",
       "      <td>NaN</td>\n",
       "      <td>NaN</td>\n",
       "      <td>NaN</td>\n",
       "      <td>NaN</td>\n",
       "      <td>NaN</td>\n",
       "      <td>NaN</td>\n",
       "      <td>NaN</td>\n",
       "      <td>NaN</td>\n",
       "    </tr>\n",
       "    <tr>\n",
       "      <th>1516</th>\n",
       "      <td>PEUGEOT</td>\n",
       "      <td>5008</td>\n",
       "      <td>BlueHDi 120 S&amp;S Auto (18'' wheels)</td>\n",
       "      <td>A6</td>\n",
       "      <td>1560.0</td>\n",
       "      <td>Diesel</td>\n",
       "      <td>NaN</td>\n",
       "      <td>NaN</td>\n",
       "      <td>NaN</td>\n",
       "      <td>NaN</td>\n",
       "      <td>...</td>\n",
       "      <td>39.0</td>\n",
       "      <td>47.0</td>\n",
       "      <td>0.10</td>\n",
       "      <td>NaN</td>\n",
       "      <td>NaN</td>\n",
       "      <td>NaN</td>\n",
       "      <td>NaN</td>\n",
       "      <td>NaN</td>\n",
       "      <td>NaN</td>\n",
       "      <td>NaN</td>\n",
       "    </tr>\n",
       "  </tbody>\n",
       "</table>\n",
       "<p>10 rows × 34 columns</p>\n",
       "</div>"
      ],
      "text/plain": [
       "       Manufacturer                                Model  \\\n",
       "604            SEAT                          Leon 5 Door   \n",
       "2379           MINI  Countryman R60, From September 2010   \n",
       "2582         NISSAN                           Leaf, 2016   \n",
       "2688           FORD         Fiesta, Model Year Pre 2017¼   \n",
       "4290            BMW  4 Series Coupé F32, From March 2016   \n",
       "3204  MERCEDES-BENZ             A-Class, Model Year 2018   \n",
       "2660            KIA                                 Niro   \n",
       "270            AUDI                         A3 Sportback   \n",
       "4095          SKODA                        Superb Saloon   \n",
       "1516        PEUGEOT                                 5008   \n",
       "\n",
       "                                            Description Transmission  \\\n",
       "604              1.6 TDI 115PS 7speed DSG SE Technology           D7   \n",
       "2379                   MINI Cooper SD ALL4 - 17'' tyres           A6   \n",
       "2582                                         Leaf 24kWh          NaN   \n",
       "2688                    1.0 EcoBoost (100PS) Stop-Start           M5   \n",
       "4290                    420i xDrive - 18'' & 19'' tyres           M6   \n",
       "3204                        A 160 with 18'' rear wheels           M6   \n",
       "2660                             '2' 1.6 GDi 139bhp DCT         DCT6   \n",
       "270           1.6 TDI 116PS 7speed S-tronic 16'' wheels           D7   \n",
       "4095  2.0 TSI 220PS DSG Stop-Start SE L, Executive, ...           D6   \n",
       "1516                 BlueHDi 120 S&S Auto (18'' wheels)           A6   \n",
       "\n",
       "      Engine Capacity    Fuel Type  Electric energy consumption Miles/kWh  \\\n",
       "604            1598.0       Diesel                                    NaN   \n",
       "2379           1995.0       Diesel                                    NaN   \n",
       "2582              NaN  Electricity                                    4.1   \n",
       "2688            998.0       Petrol                                    NaN   \n",
       "4290           1998.0       Petrol                                    NaN   \n",
       "3204           1595.0       Petrol                                    NaN   \n",
       "2660           1580.0       Petrol                                    NaN   \n",
       "270            1598.0       Diesel                                    NaN   \n",
       "4095           1984.0       Petrol                                    NaN   \n",
       "1516           1560.0       Diesel                                    NaN   \n",
       "\n",
       "      wh/km  Maximum range (Km)  Maximum range (Miles)     ...      \\\n",
       "604     NaN                 NaN                    NaN     ...       \n",
       "2379    NaN                 NaN                    NaN     ...       \n",
       "2582  150.0               199.0                  124.0     ...       \n",
       "2688    NaN                 NaN                    NaN     ...       \n",
       "4290    NaN                 NaN                    NaN     ...       \n",
       "3204    NaN                 NaN                    NaN     ...       \n",
       "2660    NaN                 NaN                    NaN     ...       \n",
       "270     NaN                 NaN                    NaN     ...       \n",
       "4095    NaN                 NaN                    NaN     ...       \n",
       "1516    NaN                 NaN                    NaN     ...       \n",
       "\n",
       "      Emissions NOx [mg/km]  THC + NOx Emissions [mg/km]  \\\n",
       "604                    47.0                         69.0   \n",
       "2379                   59.0                        114.0   \n",
       "2582                    NaN                          NaN   \n",
       "2688                   41.0                          NaN   \n",
       "4290                   25.0                          NaN   \n",
       "3204                   24.0                          NaN   \n",
       "2660                    4.0                          NaN   \n",
       "270                    40.0                         66.0   \n",
       "4095                   24.0                          NaN   \n",
       "1516                   39.0                         47.0   \n",
       "\n",
       "      Particulates [No.] [mg/km]  Unnamed: 27  Unnamed: 28  Unnamed: 29  \\\n",
       "604                         0.00          NaN          NaN          NaN   \n",
       "2379                        0.40          NaN          NaN          NaN   \n",
       "2582                         NaN          NaN          NaN          NaN   \n",
       "2688                         NaN          NaN          NaN          NaN   \n",
       "4290                         NaN          NaN          NaN          NaN   \n",
       "3204                         NaN          NaN          NaN          NaN   \n",
       "2660                         NaN          NaN          NaN          NaN   \n",
       "270                         0.24          NaN          NaN          NaN   \n",
       "4095                         NaN          NaN          NaN          NaN   \n",
       "1516                        0.10          NaN          NaN          NaN   \n",
       "\n",
       "      Unnamed: 30 Unnamed: 31 Unnamed: 32 Unnamed: 33  \n",
       "604           NaN         NaN         NaN         NaN  \n",
       "2379          NaN         NaN         NaN         NaN  \n",
       "2582          NaN         NaN         NaN         NaN  \n",
       "2688          NaN         NaN         NaN         NaN  \n",
       "4290          NaN         NaN         NaN         NaN  \n",
       "3204          NaN         NaN         NaN         NaN  \n",
       "2660          NaN         NaN         NaN         NaN  \n",
       "270           NaN         NaN         NaN         NaN  \n",
       "4095          NaN         NaN         NaN         NaN  \n",
       "1516          NaN         NaN         NaN         NaN  \n",
       "\n",
       "[10 rows x 34 columns]"
      ]
     },
     "execution_count": 236,
     "metadata": {},
     "output_type": "execute_result"
    }
   ],
   "source": [
    "df.sample(10)"
   ]
  },
  {
   "cell_type": "code",
   "execution_count": 237,
   "metadata": {},
   "outputs": [
    {
     "data": {
      "text/plain": [
       "Index(['Manufacturer', 'Model', 'Description', 'Transmission',\n",
       "       'Engine Capacity', 'Fuel Type', 'Electric energy consumption Miles/kWh',\n",
       "       'wh/km', 'Maximum range (Km)', 'Maximum range (Miles)',\n",
       "       'Metric Urban (Cold)', 'Metric Extra-Urban', 'Metric Combined',\n",
       "       'Imperial Urban (Cold)', 'Imperial Extra-Urban', 'Imperial Combined',\n",
       "       'CO2 g/km', 'Fuel Cost 12000 Miles', 'Electricity cost',\n",
       "       'Total cost / 12000 miles', 'Euro Standard', 'Noise Level dB(A)',\n",
       "       'Emissions CO [mg/km]', 'THC Emissions [mg/km]',\n",
       "       'Emissions NOx [mg/km]', 'THC + NOx Emissions [mg/km]',\n",
       "       'Particulates [No.] [mg/km]', 'Unnamed: 27', 'Unnamed: 28',\n",
       "       'Unnamed: 29', 'Unnamed: 30', 'Unnamed: 31', 'Unnamed: 32',\n",
       "       'Unnamed: 33'],\n",
       "      dtype='object')"
      ]
     },
     "execution_count": 237,
     "metadata": {},
     "output_type": "execute_result"
    }
   ],
   "source": [
    "df.columns"
   ]
  },
  {
   "cell_type": "markdown",
   "metadata": {},
   "source": [
    "# cleaning data"
   ]
  },
  {
   "cell_type": "code",
   "execution_count": 238,
   "metadata": {},
   "outputs": [
    {
     "data": {
      "text/plain": [
       "Index(['Manufacturer', 'Engine Capacity', 'Fuel Type',\n",
       "       'Electric energy consumption Miles/kWh', 'CO2 g/km', 'Euro Standard',\n",
       "       'Emissions CO [mg/km]', 'THC Emissions [mg/km]',\n",
       "       'Emissions NOx [mg/km]', 'THC + NOx Emissions [mg/km]',\n",
       "       'Particulates [No.] [mg/km]'],\n",
       "      dtype='object')"
      ]
     },
     "execution_count": 238,
     "metadata": {},
     "output_type": "execute_result"
    }
   ],
   "source": [
    "#drop some columns\n",
    "drop_col = ['Model', 'Description', 'Transmission','wh/km', 'Maximum range (Km)', 'Maximum range (Miles)',\n",
    "       'Metric Urban (Cold)', 'Metric Extra-Urban', 'Metric Combined',\n",
    "       'Imperial Urban (Cold)', 'Imperial Extra-Urban', 'Imperial Combined','Fuel Cost 12000 Miles', 'Electricity cost',\n",
    "       'Total cost / 12000 miles','Noise Level dB(A)','Unnamed: 27', 'Unnamed: 28',\n",
    "       'Unnamed: 29', 'Unnamed: 30', 'Unnamed: 31', 'Unnamed: 32',\n",
    "       'Unnamed: 33']\n",
    "\n",
    "df=df.drop(drop_col, axis=1) \n",
    "df.columns"
   ]
  },
  {
   "cell_type": "code",
   "execution_count": 239,
   "metadata": {},
   "outputs": [],
   "source": [
    "#remove columns spaces\n",
    "df.columns=df.columns.str.replace(' ','')"
   ]
  },
  {
   "cell_type": "code",
   "execution_count": null,
   "metadata": {},
   "outputs": [],
   "source": []
  },
  {
   "cell_type": "code",
   "execution_count": 240,
   "metadata": {},
   "outputs": [
    {
     "data": {
      "text/plain": [
       "Manufacturer                             0\n",
       "EngineCapacity                          30\n",
       "FuelType                                 0\n",
       "ElectricenergyconsumptionMiles/kWh    5037\n",
       "CO2g/km                                  0\n",
       "EuroStandard                             0\n",
       "EmissionsCO[mg/km]                      30\n",
       "THCEmissions[mg/km]                   2611\n",
       "EmissionsNOx[mg/km]                     30\n",
       "THC+NOxEmissions[mg/km]               2536\n",
       "Particulates[No.][mg/km]              2529\n",
       "dtype: int64"
      ]
     },
     "execution_count": 240,
     "metadata": {},
     "output_type": "execute_result"
    }
   ],
   "source": [
    "# check no. fo nulls in columns\n",
    "df.isnull().sum()"
   ]
  },
  {
   "cell_type": "code",
   "execution_count": 241,
   "metadata": {},
   "outputs": [
    {
     "data": {
      "text/plain": [
       "Index(['Manufacturer', 'EngineCapacity', 'FuelType', 'CO2g/km', 'EuroStandard',\n",
       "       'EmissionsCO[mg/km]', 'THCEmissions[mg/km]', 'EmissionsNOx[mg/km]',\n",
       "       'THC+NOxEmissions[mg/km]', 'Particulates[No.][mg/km]'],\n",
       "      dtype='object')"
      ]
     },
     "execution_count": 241,
     "metadata": {},
     "output_type": "execute_result"
    }
   ],
   "source": [
    "#drop some columns\n",
    "drop_col = ['ElectricenergyconsumptionMiles/kWh']\n",
    "\n",
    "df=df.drop(drop_col, axis=1) \n",
    "df.columns"
   ]
  },
  {
   "cell_type": "code",
   "execution_count": 242,
   "metadata": {},
   "outputs": [],
   "source": [
    "#calculate the mean of the EngineCapacity column\n",
    "df['EngineCapacity'].mean()\n",
    "#fill all the empties/nulls in EngineCapacity column with mean\n",
    "df['EngineCapacity'] = df['EngineCapacity'].fillna(df['EngineCapacity'].mean())\n"
   ]
  },
  {
   "cell_type": "code",
   "execution_count": 243,
   "metadata": {},
   "outputs": [],
   "source": [
    "#calculate the mean of the EmissionsCO[mg/km] column\n",
    "df['EmissionsCO[mg/km]'].mean()\n",
    "#fill all the empties/nulls in EmissionsCO[mg/km] column with mean\n",
    "df['EmissionsCO[mg/km]'] = df['EmissionsCO[mg/km]'].fillna(df['EmissionsCO[mg/km]'].mean())\n"
   ]
  },
  {
   "cell_type": "code",
   "execution_count": 244,
   "metadata": {},
   "outputs": [],
   "source": [
    "#calculate the mean of the THCEmissions[mg/km] column\n",
    "df['THCEmissions[mg/km]'].mean()\n",
    "#fill all the empties/nulls in THCEmissions[mg/km] column with mean\n",
    "df['THCEmissions[mg/km]'] = df['THCEmissions[mg/km]'].fillna(df['THCEmissions[mg/km]'].mean())\n"
   ]
  },
  {
   "cell_type": "code",
   "execution_count": 245,
   "metadata": {},
   "outputs": [],
   "source": [
    "#calculate the mean of the THC+NOxEmissions[mg/km] column\n",
    "df['THC+NOxEmissions[mg/km]'].mean()\n",
    "#fill all the empties/nulls in THCEmissions[mg/km] column with mean\n",
    "df['THC+NOxEmissions[mg/km]'] = df['THC+NOxEmissions[mg/km]'].fillna(df['THC+NOxEmissions[mg/km]'].mean())"
   ]
  },
  {
   "cell_type": "code",
   "execution_count": 246,
   "metadata": {},
   "outputs": [],
   "source": [
    "#calculate the mean of the Particulates[No.][mg/km] column\n",
    "df['Particulates[No.][mg/km]'].mean()\n",
    "#fill all the empties/nulls in THCEmissions[mg/km] column with mean\n",
    "df['Particulates[No.][mg/km]'] = df['Particulates[No.][mg/km]'].fillna(df['Particulates[No.][mg/km]'].mean())"
   ]
  },
  {
   "cell_type": "code",
   "execution_count": 247,
   "metadata": {},
   "outputs": [
    {
     "data": {
      "text/html": [
       "<div>\n",
       "<style scoped>\n",
       "    .dataframe tbody tr th:only-of-type {\n",
       "        vertical-align: middle;\n",
       "    }\n",
       "\n",
       "    .dataframe tbody tr th {\n",
       "        vertical-align: top;\n",
       "    }\n",
       "\n",
       "    .dataframe thead th {\n",
       "        text-align: right;\n",
       "    }\n",
       "</style>\n",
       "<table border=\"1\" class=\"dataframe\">\n",
       "  <thead>\n",
       "    <tr style=\"text-align: right;\">\n",
       "      <th></th>\n",
       "      <th>Manufacturer</th>\n",
       "      <th>EngineCapacity</th>\n",
       "      <th>FuelType</th>\n",
       "      <th>CO2g/km</th>\n",
       "      <th>EuroStandard</th>\n",
       "      <th>EmissionsCO[mg/km]</th>\n",
       "      <th>THCEmissions[mg/km]</th>\n",
       "      <th>EmissionsNOx[mg/km]</th>\n",
       "      <th>THC+NOxEmissions[mg/km]</th>\n",
       "      <th>Particulates[No.][mg/km]</th>\n",
       "    </tr>\n",
       "  </thead>\n",
       "  <tbody>\n",
       "    <tr>\n",
       "      <th>2750</th>\n",
       "      <td>AUDI</td>\n",
       "      <td>999.0</td>\n",
       "      <td>Petrol</td>\n",
       "      <td>103</td>\n",
       "      <td>6</td>\n",
       "      <td>183.0</td>\n",
       "      <td>48.00000</td>\n",
       "      <td>23.0</td>\n",
       "      <td>79.331526</td>\n",
       "      <td>0.316748</td>\n",
       "    </tr>\n",
       "    <tr>\n",
       "      <th>1694</th>\n",
       "      <td>VOLKSWAGEN</td>\n",
       "      <td>1968.0</td>\n",
       "      <td>Diesel</td>\n",
       "      <td>117</td>\n",
       "      <td>6</td>\n",
       "      <td>183.0</td>\n",
       "      <td>41.69645</td>\n",
       "      <td>64.0</td>\n",
       "      <td>93.000000</td>\n",
       "      <td>0.000000</td>\n",
       "    </tr>\n",
       "    <tr>\n",
       "      <th>2782</th>\n",
       "      <td>CITROEN</td>\n",
       "      <td>1199.0</td>\n",
       "      <td>Petrol</td>\n",
       "      <td>105</td>\n",
       "      <td>6</td>\n",
       "      <td>371.0</td>\n",
       "      <td>42.00000</td>\n",
       "      <td>18.0</td>\n",
       "      <td>79.331526</td>\n",
       "      <td>0.390000</td>\n",
       "    </tr>\n",
       "    <tr>\n",
       "      <th>4700</th>\n",
       "      <td>AUDI</td>\n",
       "      <td>3993.0</td>\n",
       "      <td>Petrol</td>\n",
       "      <td>220</td>\n",
       "      <td>6</td>\n",
       "      <td>673.0</td>\n",
       "      <td>47.00000</td>\n",
       "      <td>24.0</td>\n",
       "      <td>79.331526</td>\n",
       "      <td>0.316748</td>\n",
       "    </tr>\n",
       "    <tr>\n",
       "      <th>4436</th>\n",
       "      <td>MINI</td>\n",
       "      <td>1998.0</td>\n",
       "      <td>Petrol</td>\n",
       "      <td>152</td>\n",
       "      <td>6</td>\n",
       "      <td>393.0</td>\n",
       "      <td>20.00000</td>\n",
       "      <td>41.0</td>\n",
       "      <td>79.331526</td>\n",
       "      <td>0.316748</td>\n",
       "    </tr>\n",
       "    <tr>\n",
       "      <th>2696</th>\n",
       "      <td>NISSAN</td>\n",
       "      <td>898.0</td>\n",
       "      <td>Petrol</td>\n",
       "      <td>99</td>\n",
       "      <td>6</td>\n",
       "      <td>301.0</td>\n",
       "      <td>59.00000</td>\n",
       "      <td>41.0</td>\n",
       "      <td>79.331526</td>\n",
       "      <td>0.316748</td>\n",
       "    </tr>\n",
       "    <tr>\n",
       "      <th>3035</th>\n",
       "      <td>BMW</td>\n",
       "      <td>1499.0</td>\n",
       "      <td>Petrol</td>\n",
       "      <td>123</td>\n",
       "      <td>6</td>\n",
       "      <td>164.0</td>\n",
       "      <td>41.00000</td>\n",
       "      <td>16.0</td>\n",
       "      <td>79.331526</td>\n",
       "      <td>0.316748</td>\n",
       "    </tr>\n",
       "    <tr>\n",
       "      <th>1669</th>\n",
       "      <td>VOLKSWAGEN</td>\n",
       "      <td>1968.0</td>\n",
       "      <td>Diesel</td>\n",
       "      <td>130</td>\n",
       "      <td>6</td>\n",
       "      <td>103.0</td>\n",
       "      <td>41.69645</td>\n",
       "      <td>55.0</td>\n",
       "      <td>89.000000</td>\n",
       "      <td>0.000000</td>\n",
       "    </tr>\n",
       "    <tr>\n",
       "      <th>4651</th>\n",
       "      <td>MINI</td>\n",
       "      <td>1598.0</td>\n",
       "      <td>Petrol</td>\n",
       "      <td>179</td>\n",
       "      <td>6</td>\n",
       "      <td>550.0</td>\n",
       "      <td>57.00000</td>\n",
       "      <td>18.0</td>\n",
       "      <td>79.331526</td>\n",
       "      <td>0.316748</td>\n",
       "    </tr>\n",
       "    <tr>\n",
       "      <th>4220</th>\n",
       "      <td>AUDI</td>\n",
       "      <td>1984.0</td>\n",
       "      <td>Petrol</td>\n",
       "      <td>152</td>\n",
       "      <td>6</td>\n",
       "      <td>488.0</td>\n",
       "      <td>38.00000</td>\n",
       "      <td>14.0</td>\n",
       "      <td>79.331526</td>\n",
       "      <td>0.316748</td>\n",
       "    </tr>\n",
       "  </tbody>\n",
       "</table>\n",
       "</div>"
      ],
      "text/plain": [
       "     Manufacturer  EngineCapacity FuelType  CO2g/km  EuroStandard  \\\n",
       "2750         AUDI           999.0   Petrol      103             6   \n",
       "1694   VOLKSWAGEN          1968.0   Diesel      117             6   \n",
       "2782      CITROEN          1199.0   Petrol      105             6   \n",
       "4700         AUDI          3993.0   Petrol      220             6   \n",
       "4436         MINI          1998.0   Petrol      152             6   \n",
       "2696       NISSAN           898.0   Petrol       99             6   \n",
       "3035          BMW          1499.0   Petrol      123             6   \n",
       "1669   VOLKSWAGEN          1968.0   Diesel      130             6   \n",
       "4651         MINI          1598.0   Petrol      179             6   \n",
       "4220         AUDI          1984.0   Petrol      152             6   \n",
       "\n",
       "      EmissionsCO[mg/km]  THCEmissions[mg/km]  EmissionsNOx[mg/km]  \\\n",
       "2750               183.0             48.00000                 23.0   \n",
       "1694               183.0             41.69645                 64.0   \n",
       "2782               371.0             42.00000                 18.0   \n",
       "4700               673.0             47.00000                 24.0   \n",
       "4436               393.0             20.00000                 41.0   \n",
       "2696               301.0             59.00000                 41.0   \n",
       "3035               164.0             41.00000                 16.0   \n",
       "1669               103.0             41.69645                 55.0   \n",
       "4651               550.0             57.00000                 18.0   \n",
       "4220               488.0             38.00000                 14.0   \n",
       "\n",
       "      THC+NOxEmissions[mg/km]  Particulates[No.][mg/km]  \n",
       "2750                79.331526                  0.316748  \n",
       "1694                93.000000                  0.000000  \n",
       "2782                79.331526                  0.390000  \n",
       "4700                79.331526                  0.316748  \n",
       "4436                79.331526                  0.316748  \n",
       "2696                79.331526                  0.316748  \n",
       "3035                79.331526                  0.316748  \n",
       "1669                89.000000                  0.000000  \n",
       "4651                79.331526                  0.316748  \n",
       "4220                79.331526                  0.316748  "
      ]
     },
     "execution_count": 247,
     "metadata": {},
     "output_type": "execute_result"
    }
   ],
   "source": [
    "df.sample(10)"
   ]
  },
  {
   "cell_type": "code",
   "execution_count": 248,
   "metadata": {},
   "outputs": [],
   "source": [
    "#drop duplicated rows - if any\n",
    "df=df.drop_duplicates(keep='first')"
   ]
  },
  {
   "cell_type": "code",
   "execution_count": 249,
   "metadata": {},
   "outputs": [
    {
     "data": {
      "text/plain": [
       "(3356, 10)"
      ]
     },
     "execution_count": 249,
     "metadata": {},
     "output_type": "execute_result"
    }
   ],
   "source": [
    "df.shape"
   ]
  },
  {
   "cell_type": "code",
   "execution_count": 250,
   "metadata": {},
   "outputs": [
    {
     "data": {
      "text/plain": [
       "True"
      ]
     },
     "execution_count": 250,
     "metadata": {},
     "output_type": "execute_result"
    }
   ],
   "source": [
    "#check if there’s any empties existing in the whole dataset or not.\n",
    "df.isnull().values.any()"
   ]
  },
  {
   "cell_type": "code",
   "execution_count": 251,
   "metadata": {},
   "outputs": [],
   "source": [
    "#calculate the mean of the Particulates[No.][mg/km] column\n",
    "df['EmissionsNOx[mg/km]'].mean()\n",
    "#fill all the empties/nulls in THCEmissions[mg/km] column with mean\n",
    "df['EmissionsNOx[mg/km]'] = df['EmissionsNOx[mg/km]'].fillna(df['EmissionsNOx[mg/km]'].mean())"
   ]
  },
  {
   "cell_type": "code",
   "execution_count": 252,
   "metadata": {},
   "outputs": [
    {
     "data": {
      "text/plain": [
       "Manufacturer                0\n",
       "EngineCapacity              0\n",
       "FuelType                    0\n",
       "CO2g/km                     0\n",
       "EuroStandard                0\n",
       "EmissionsCO[mg/km]          0\n",
       "THCEmissions[mg/km]         0\n",
       "EmissionsNOx[mg/km]         0\n",
       "THC+NOxEmissions[mg/km]     0\n",
       "Particulates[No.][mg/km]    0\n",
       "dtype: int64"
      ]
     },
     "execution_count": 252,
     "metadata": {},
     "output_type": "execute_result"
    }
   ],
   "source": [
    "# check no. fo nulls in columns\n",
    "df.isnull().sum()"
   ]
  },
  {
   "cell_type": "code",
   "execution_count": 253,
   "metadata": {},
   "outputs": [],
   "source": [
    "#combining emmissions columns into one column\n",
    "df['Emissions'] = df['CO2g/km'] + df['EmissionsCO[mg/km]'] + df['THCEmissions[mg/km]'] + df['EmissionsNOx[mg/km]'] + df['THC+NOxEmissions[mg/km]'] + df['Particulates[No.][mg/km]']\n"
   ]
  },
  {
   "cell_type": "code",
   "execution_count": 254,
   "metadata": {},
   "outputs": [
    {
     "data": {
      "text/html": [
       "<div>\n",
       "<style scoped>\n",
       "    .dataframe tbody tr th:only-of-type {\n",
       "        vertical-align: middle;\n",
       "    }\n",
       "\n",
       "    .dataframe tbody tr th {\n",
       "        vertical-align: top;\n",
       "    }\n",
       "\n",
       "    .dataframe thead th {\n",
       "        text-align: right;\n",
       "    }\n",
       "</style>\n",
       "<table border=\"1\" class=\"dataframe\">\n",
       "  <thead>\n",
       "    <tr style=\"text-align: right;\">\n",
       "      <th></th>\n",
       "      <th>Manufacturer</th>\n",
       "      <th>EngineCapacity</th>\n",
       "      <th>FuelType</th>\n",
       "      <th>CO2g/km</th>\n",
       "      <th>EuroStandard</th>\n",
       "      <th>EmissionsCO[mg/km]</th>\n",
       "      <th>THCEmissions[mg/km]</th>\n",
       "      <th>EmissionsNOx[mg/km]</th>\n",
       "      <th>THC+NOxEmissions[mg/km]</th>\n",
       "      <th>Particulates[No.][mg/km]</th>\n",
       "      <th>Emissions</th>\n",
       "    </tr>\n",
       "  </thead>\n",
       "  <tbody>\n",
       "    <tr>\n",
       "      <th>0</th>\n",
       "      <td>ALFA ROMEO</td>\n",
       "      <td>1248.0</td>\n",
       "      <td>Diesel</td>\n",
       "      <td>89</td>\n",
       "      <td>6</td>\n",
       "      <td>234.0</td>\n",
       "      <td>41.69645</td>\n",
       "      <td>67.0</td>\n",
       "      <td>100.0</td>\n",
       "      <td>0.27</td>\n",
       "      <td>531.96645</td>\n",
       "    </tr>\n",
       "    <tr>\n",
       "      <th>1</th>\n",
       "      <td>BMW</td>\n",
       "      <td>1496.0</td>\n",
       "      <td>Diesel</td>\n",
       "      <td>89</td>\n",
       "      <td>6</td>\n",
       "      <td>119.0</td>\n",
       "      <td>41.69645</td>\n",
       "      <td>37.0</td>\n",
       "      <td>66.0</td>\n",
       "      <td>0.14</td>\n",
       "      <td>352.83645</td>\n",
       "    </tr>\n",
       "    <tr>\n",
       "      <th>3</th>\n",
       "      <td>CITROEN</td>\n",
       "      <td>1560.0</td>\n",
       "      <td>Diesel</td>\n",
       "      <td>86</td>\n",
       "      <td>6</td>\n",
       "      <td>272.0</td>\n",
       "      <td>41.69645</td>\n",
       "      <td>55.0</td>\n",
       "      <td>74.0</td>\n",
       "      <td>0.42</td>\n",
       "      <td>529.11645</td>\n",
       "    </tr>\n",
       "    <tr>\n",
       "      <th>4</th>\n",
       "      <td>CITROEN</td>\n",
       "      <td>1560.0</td>\n",
       "      <td>Diesel</td>\n",
       "      <td>89</td>\n",
       "      <td>6</td>\n",
       "      <td>185.0</td>\n",
       "      <td>41.69645</td>\n",
       "      <td>40.0</td>\n",
       "      <td>53.0</td>\n",
       "      <td>0.03</td>\n",
       "      <td>408.72645</td>\n",
       "    </tr>\n",
       "    <tr>\n",
       "      <th>5</th>\n",
       "      <td>DACIA</td>\n",
       "      <td>1461.0</td>\n",
       "      <td>Diesel</td>\n",
       "      <td>90</td>\n",
       "      <td>6</td>\n",
       "      <td>271.0</td>\n",
       "      <td>41.69645</td>\n",
       "      <td>31.0</td>\n",
       "      <td>98.0</td>\n",
       "      <td>0.01</td>\n",
       "      <td>531.70645</td>\n",
       "    </tr>\n",
       "  </tbody>\n",
       "</table>\n",
       "</div>"
      ],
      "text/plain": [
       "  Manufacturer  EngineCapacity FuelType  CO2g/km  EuroStandard  \\\n",
       "0   ALFA ROMEO          1248.0   Diesel       89             6   \n",
       "1          BMW          1496.0   Diesel       89             6   \n",
       "3      CITROEN          1560.0   Diesel       86             6   \n",
       "4      CITROEN          1560.0   Diesel       89             6   \n",
       "5        DACIA          1461.0   Diesel       90             6   \n",
       "\n",
       "   EmissionsCO[mg/km]  THCEmissions[mg/km]  EmissionsNOx[mg/km]  \\\n",
       "0               234.0             41.69645                 67.0   \n",
       "1               119.0             41.69645                 37.0   \n",
       "3               272.0             41.69645                 55.0   \n",
       "4               185.0             41.69645                 40.0   \n",
       "5               271.0             41.69645                 31.0   \n",
       "\n",
       "   THC+NOxEmissions[mg/km]  Particulates[No.][mg/km]  Emissions  \n",
       "0                    100.0                      0.27  531.96645  \n",
       "1                     66.0                      0.14  352.83645  \n",
       "3                     74.0                      0.42  529.11645  \n",
       "4                     53.0                      0.03  408.72645  \n",
       "5                     98.0                      0.01  531.70645  "
      ]
     },
     "execution_count": 254,
     "metadata": {},
     "output_type": "execute_result"
    }
   ],
   "source": [
    "df.head()"
   ]
  },
  {
   "cell_type": "code",
   "execution_count": 255,
   "metadata": {},
   "outputs": [
    {
     "data": {
      "text/plain": [
       "Index(['Manufacturer', 'EngineCapacity', 'FuelType', 'EuroStandard',\n",
       "       'Emissions'],\n",
       "      dtype='object')"
      ]
     },
     "execution_count": 255,
     "metadata": {},
     "output_type": "execute_result"
    }
   ],
   "source": [
    "#drop all the useless columns from the dataframe\n",
    "drop_col = ['CO2g/km','EmissionsCO[mg/km]', 'THCEmissions[mg/km]', 'EmissionsNOx[mg/km]',\n",
    "       'THC+NOxEmissions[mg/km]', 'Particulates[No.][mg/km]']\n",
    "\n",
    "df=df.drop(drop_col, axis=1) \n",
    "df.columns"
   ]
  },
  {
   "cell_type": "code",
   "execution_count": 256,
   "metadata": {},
   "outputs": [
    {
     "data": {
      "text/html": [
       "<div>\n",
       "<style scoped>\n",
       "    .dataframe tbody tr th:only-of-type {\n",
       "        vertical-align: middle;\n",
       "    }\n",
       "\n",
       "    .dataframe tbody tr th {\n",
       "        vertical-align: top;\n",
       "    }\n",
       "\n",
       "    .dataframe thead th {\n",
       "        text-align: right;\n",
       "    }\n",
       "</style>\n",
       "<table border=\"1\" class=\"dataframe\">\n",
       "  <thead>\n",
       "    <tr style=\"text-align: right;\">\n",
       "      <th></th>\n",
       "      <th>Manufacturer</th>\n",
       "      <th>EngineCapacity</th>\n",
       "      <th>FuelType</th>\n",
       "      <th>EuroStandard</th>\n",
       "      <th>Emissions</th>\n",
       "    </tr>\n",
       "  </thead>\n",
       "  <tbody>\n",
       "    <tr>\n",
       "      <th>4017</th>\n",
       "      <td>MINI</td>\n",
       "      <td>1998.0</td>\n",
       "      <td>Petrol</td>\n",
       "      <td>6</td>\n",
       "      <td>946.648274</td>\n",
       "    </tr>\n",
       "    <tr>\n",
       "      <th>2920</th>\n",
       "      <td>VOLKSWAGEN</td>\n",
       "      <td>999.0</td>\n",
       "      <td>Petrol</td>\n",
       "      <td>6</td>\n",
       "      <td>558.648274</td>\n",
       "    </tr>\n",
       "    <tr>\n",
       "      <th>551</th>\n",
       "      <td>MINI</td>\n",
       "      <td>1496.0</td>\n",
       "      <td>Diesel</td>\n",
       "      <td>6</td>\n",
       "      <td>466.096450</td>\n",
       "    </tr>\n",
       "    <tr>\n",
       "      <th>4736</th>\n",
       "      <td>CHRYSLER JEEP</td>\n",
       "      <td>2359.0</td>\n",
       "      <td>Petrol</td>\n",
       "      <td>6</td>\n",
       "      <td>700.648274</td>\n",
       "    </tr>\n",
       "    <tr>\n",
       "      <th>2442</th>\n",
       "      <td>VOLKSWAGEN C.V.</td>\n",
       "      <td>1968.0</td>\n",
       "      <td>Diesel</td>\n",
       "      <td>6</td>\n",
       "      <td>441.696450</td>\n",
       "    </tr>\n",
       "    <tr>\n",
       "      <th>936</th>\n",
       "      <td>BMW</td>\n",
       "      <td>1995.0</td>\n",
       "      <td>Diesel</td>\n",
       "      <td>6</td>\n",
       "      <td>488.796450</td>\n",
       "    </tr>\n",
       "    <tr>\n",
       "      <th>1900</th>\n",
       "      <td>BMW</td>\n",
       "      <td>1995.0</td>\n",
       "      <td>Diesel</td>\n",
       "      <td>6</td>\n",
       "      <td>378.876450</td>\n",
       "    </tr>\n",
       "    <tr>\n",
       "      <th>129</th>\n",
       "      <td>KIA</td>\n",
       "      <td>1582.0</td>\n",
       "      <td>Diesel</td>\n",
       "      <td>6</td>\n",
       "      <td>580.846450</td>\n",
       "    </tr>\n",
       "    <tr>\n",
       "      <th>4871</th>\n",
       "      <td>BENTLEY MOTORS</td>\n",
       "      <td>3993.0</td>\n",
       "      <td>Petrol</td>\n",
       "      <td>6</td>\n",
       "      <td>816.648274</td>\n",
       "    </tr>\n",
       "    <tr>\n",
       "      <th>4801</th>\n",
       "      <td>MERCEDES-BENZ</td>\n",
       "      <td>2996.0</td>\n",
       "      <td>Petrol</td>\n",
       "      <td>6</td>\n",
       "      <td>661.648274</td>\n",
       "    </tr>\n",
       "  </tbody>\n",
       "</table>\n",
       "</div>"
      ],
      "text/plain": [
       "         Manufacturer  EngineCapacity FuelType  EuroStandard   Emissions\n",
       "4017             MINI          1998.0   Petrol             6  946.648274\n",
       "2920       VOLKSWAGEN           999.0   Petrol             6  558.648274\n",
       "551              MINI          1496.0   Diesel             6  466.096450\n",
       "4736    CHRYSLER JEEP          2359.0   Petrol             6  700.648274\n",
       "2442  VOLKSWAGEN C.V.          1968.0   Diesel             6  441.696450\n",
       "936               BMW          1995.0   Diesel             6  488.796450\n",
       "1900              BMW          1995.0   Diesel             6  378.876450\n",
       "129               KIA          1582.0   Diesel             6  580.846450\n",
       "4871   BENTLEY MOTORS          3993.0   Petrol             6  816.648274\n",
       "4801    MERCEDES-BENZ          2996.0   Petrol             6  661.648274"
      ]
     },
     "execution_count": 256,
     "metadata": {},
     "output_type": "execute_result"
    }
   ],
   "source": [
    "df.sample(10)"
   ]
  },
  {
   "cell_type": "code",
   "execution_count": 257,
   "metadata": {},
   "outputs": [
    {
     "data": {
      "text/plain": [
       "Index(['Manufacturer', 'EngineCapacity', 'FuelType', 'Emissions'], dtype='object')"
      ]
     },
     "execution_count": 257,
     "metadata": {},
     "output_type": "execute_result"
    }
   ],
   "source": [
    "df=df.drop('EuroStandard', axis=1) \n",
    "df.columns"
   ]
  },
  {
   "cell_type": "code",
   "execution_count": 258,
   "metadata": {},
   "outputs": [
    {
     "data": {
      "text/plain": [
       "8"
      ]
     },
     "execution_count": 258,
     "metadata": {},
     "output_type": "execute_result"
    }
   ],
   "source": [
    "len(df.FuelType.unique())"
   ]
  },
  {
   "cell_type": "code",
   "execution_count": 259,
   "metadata": {},
   "outputs": [
    {
     "data": {
      "text/plain": [
       "FuelType\n",
       "Diesel                  1667\n",
       "Diesel Electric            9\n",
       "Electricity                9\n",
       "Electricity / Diesel       5\n",
       "Electricity / Petrol      37\n",
       "Petrol                  1577\n",
       "Petrol Electric            8\n",
       "Petrol Hybrid             44\n",
       "Name: FuelType, dtype: int64"
      ]
     },
     "execution_count": 259,
     "metadata": {},
     "output_type": "execute_result"
    }
   ],
   "source": [
    "FuelType=df.groupby('FuelType')['FuelType'].agg('count')\n",
    "FuelType"
   ]
  },
  {
   "cell_type": "markdown",
   "metadata": {},
   "source": [
    "## Handling Categorical Data \n",
    "### Label Encoder"
   ]
  },
  {
   "cell_type": "code",
   "execution_count": 260,
   "metadata": {},
   "outputs": [
    {
     "data": {
      "text/html": [
       "<div>\n",
       "<style scoped>\n",
       "    .dataframe tbody tr th:only-of-type {\n",
       "        vertical-align: middle;\n",
       "    }\n",
       "\n",
       "    .dataframe tbody tr th {\n",
       "        vertical-align: top;\n",
       "    }\n",
       "\n",
       "    .dataframe thead th {\n",
       "        text-align: right;\n",
       "    }\n",
       "</style>\n",
       "<table border=\"1\" class=\"dataframe\">\n",
       "  <thead>\n",
       "    <tr style=\"text-align: right;\">\n",
       "      <th></th>\n",
       "      <th>Manufacturer</th>\n",
       "      <th>EngineCapacity</th>\n",
       "      <th>FuelType</th>\n",
       "      <th>Emissions</th>\n",
       "    </tr>\n",
       "  </thead>\n",
       "  <tbody>\n",
       "    <tr>\n",
       "      <th>0</th>\n",
       "      <td>ALFA ROMEO</td>\n",
       "      <td>1248.0</td>\n",
       "      <td>0</td>\n",
       "      <td>531.96645</td>\n",
       "    </tr>\n",
       "    <tr>\n",
       "      <th>1</th>\n",
       "      <td>BMW</td>\n",
       "      <td>1496.0</td>\n",
       "      <td>0</td>\n",
       "      <td>352.83645</td>\n",
       "    </tr>\n",
       "    <tr>\n",
       "      <th>3</th>\n",
       "      <td>CITROEN</td>\n",
       "      <td>1560.0</td>\n",
       "      <td>0</td>\n",
       "      <td>529.11645</td>\n",
       "    </tr>\n",
       "    <tr>\n",
       "      <th>4</th>\n",
       "      <td>CITROEN</td>\n",
       "      <td>1560.0</td>\n",
       "      <td>0</td>\n",
       "      <td>408.72645</td>\n",
       "    </tr>\n",
       "    <tr>\n",
       "      <th>5</th>\n",
       "      <td>DACIA</td>\n",
       "      <td>1461.0</td>\n",
       "      <td>0</td>\n",
       "      <td>531.70645</td>\n",
       "    </tr>\n",
       "    <tr>\n",
       "      <th>6</th>\n",
       "      <td>DACIA</td>\n",
       "      <td>1461.0</td>\n",
       "      <td>0</td>\n",
       "      <td>414.69645</td>\n",
       "    </tr>\n",
       "    <tr>\n",
       "      <th>7</th>\n",
       "      <td>DS</td>\n",
       "      <td>1560.0</td>\n",
       "      <td>0</td>\n",
       "      <td>411.77645</td>\n",
       "    </tr>\n",
       "    <tr>\n",
       "      <th>8</th>\n",
       "      <td>FIAT</td>\n",
       "      <td>1248.0</td>\n",
       "      <td>0</td>\n",
       "      <td>433.96645</td>\n",
       "    </tr>\n",
       "    <tr>\n",
       "      <th>9</th>\n",
       "      <td>FIAT</td>\n",
       "      <td>1598.0</td>\n",
       "      <td>0</td>\n",
       "      <td>484.77645</td>\n",
       "    </tr>\n",
       "    <tr>\n",
       "      <th>11</th>\n",
       "      <td>FORD</td>\n",
       "      <td>1499.0</td>\n",
       "      <td>0</td>\n",
       "      <td>465.66645</td>\n",
       "    </tr>\n",
       "  </tbody>\n",
       "</table>\n",
       "</div>"
      ],
      "text/plain": [
       "   Manufacturer  EngineCapacity  FuelType  Emissions\n",
       "0    ALFA ROMEO          1248.0         0  531.96645\n",
       "1           BMW          1496.0         0  352.83645\n",
       "3       CITROEN          1560.0         0  529.11645\n",
       "4       CITROEN          1560.0         0  408.72645\n",
       "5         DACIA          1461.0         0  531.70645\n",
       "6         DACIA          1461.0         0  414.69645\n",
       "7            DS          1560.0         0  411.77645\n",
       "8          FIAT          1248.0         0  433.96645\n",
       "9          FIAT          1598.0         0  484.77645\n",
       "11         FORD          1499.0         0  465.66645"
      ]
     },
     "execution_count": 260,
     "metadata": {},
     "output_type": "execute_result"
    }
   ],
   "source": [
    "encoder = LabelEncoder()\n",
    "df['FuelType'] = encoder.fit_transform(df['FuelType'])\n",
    "\n",
    "df.head(10)"
   ]
  },
  {
   "cell_type": "markdown",
   "metadata": {},
   "source": [
    "### one-hot-encoder"
   ]
  },
  {
   "cell_type": "code",
   "execution_count": 261,
   "metadata": {},
   "outputs": [],
   "source": [
    "\n",
    "FuelType_dummies = pd.get_dummies(df['FuelType'])\n",
    "FuelType_dummies.columns=['Diesel','Diesel Electric','Electricity','Electricity / Diesel','Electricity / Petrol','Petrol','Petrol Electric','Petrol Hybrid']\n",
    "\n"
   ]
  },
  {
   "cell_type": "code",
   "execution_count": 262,
   "metadata": {},
   "outputs": [],
   "source": [
    "#add all the new columns to our dataset\n",
    "df = pd.concat([df,FuelType_dummies],axis=1)\n"
   ]
  },
  {
   "cell_type": "code",
   "execution_count": 263,
   "metadata": {},
   "outputs": [
    {
     "data": {
      "text/plain": [
       "Index(['Manufacturer', 'EngineCapacity', 'FuelType', 'Emissions', 'Diesel',\n",
       "       'Diesel Electric', 'Electricity', 'Electricity / Diesel',\n",
       "       'Electricity / Petrol', 'Petrol', 'Petrol Electric', 'Petrol Hybrid'],\n",
       "      dtype='object')"
      ]
     },
     "execution_count": 263,
     "metadata": {},
     "output_type": "execute_result"
    }
   ],
   "source": [
    "df.columns"
   ]
  },
  {
   "cell_type": "code",
   "execution_count": 264,
   "metadata": {},
   "outputs": [],
   "source": [
    "#remove columns spaces\n",
    "df.columns=df.columns.str.replace(' ','')"
   ]
  },
  {
   "cell_type": "code",
   "execution_count": 265,
   "metadata": {},
   "outputs": [
    {
     "data": {
      "text/html": [
       "<div>\n",
       "<style scoped>\n",
       "    .dataframe tbody tr th:only-of-type {\n",
       "        vertical-align: middle;\n",
       "    }\n",
       "\n",
       "    .dataframe tbody tr th {\n",
       "        vertical-align: top;\n",
       "    }\n",
       "\n",
       "    .dataframe thead th {\n",
       "        text-align: right;\n",
       "    }\n",
       "</style>\n",
       "<table border=\"1\" class=\"dataframe\">\n",
       "  <thead>\n",
       "    <tr style=\"text-align: right;\">\n",
       "      <th></th>\n",
       "      <th>Manufacturer</th>\n",
       "      <th>EngineCapacity</th>\n",
       "      <th>FuelType</th>\n",
       "      <th>Emissions</th>\n",
       "      <th>Diesel</th>\n",
       "      <th>DieselElectric</th>\n",
       "      <th>Electricity</th>\n",
       "      <th>Electricity/Diesel</th>\n",
       "      <th>Electricity/Petrol</th>\n",
       "      <th>Petrol</th>\n",
       "      <th>PetrolElectric</th>\n",
       "      <th>PetrolHybrid</th>\n",
       "    </tr>\n",
       "  </thead>\n",
       "  <tbody>\n",
       "    <tr>\n",
       "      <th>926</th>\n",
       "      <td>BMW</td>\n",
       "      <td>1995.0</td>\n",
       "      <td>0</td>\n",
       "      <td>400.796450</td>\n",
       "      <td>1</td>\n",
       "      <td>0</td>\n",
       "      <td>0</td>\n",
       "      <td>0</td>\n",
       "      <td>0</td>\n",
       "      <td>0</td>\n",
       "      <td>0</td>\n",
       "      <td>0</td>\n",
       "    </tr>\n",
       "    <tr>\n",
       "      <th>775</th>\n",
       "      <td>AUDI</td>\n",
       "      <td>1968.0</td>\n",
       "      <td>0</td>\n",
       "      <td>454.696450</td>\n",
       "      <td>1</td>\n",
       "      <td>0</td>\n",
       "      <td>0</td>\n",
       "      <td>0</td>\n",
       "      <td>0</td>\n",
       "      <td>0</td>\n",
       "      <td>0</td>\n",
       "      <td>0</td>\n",
       "    </tr>\n",
       "    <tr>\n",
       "      <th>4007</th>\n",
       "      <td>MINI</td>\n",
       "      <td>1998.0</td>\n",
       "      <td>5</td>\n",
       "      <td>741.648274</td>\n",
       "      <td>0</td>\n",
       "      <td>0</td>\n",
       "      <td>0</td>\n",
       "      <td>0</td>\n",
       "      <td>0</td>\n",
       "      <td>1</td>\n",
       "      <td>0</td>\n",
       "      <td>0</td>\n",
       "    </tr>\n",
       "    <tr>\n",
       "      <th>3945</th>\n",
       "      <td>MERCEDES-BENZ</td>\n",
       "      <td>1991.0</td>\n",
       "      <td>5</td>\n",
       "      <td>685.648274</td>\n",
       "      <td>0</td>\n",
       "      <td>0</td>\n",
       "      <td>0</td>\n",
       "      <td>0</td>\n",
       "      <td>0</td>\n",
       "      <td>1</td>\n",
       "      <td>0</td>\n",
       "      <td>0</td>\n",
       "    </tr>\n",
       "    <tr>\n",
       "      <th>5027</th>\n",
       "      <td>PORSCHE</td>\n",
       "      <td>3996.0</td>\n",
       "      <td>5</td>\n",
       "      <td>573.648274</td>\n",
       "      <td>0</td>\n",
       "      <td>0</td>\n",
       "      <td>0</td>\n",
       "      <td>0</td>\n",
       "      <td>0</td>\n",
       "      <td>1</td>\n",
       "      <td>0</td>\n",
       "      <td>0</td>\n",
       "    </tr>\n",
       "    <tr>\n",
       "      <th>2452</th>\n",
       "      <td>VOLKSWAGEN C.V.</td>\n",
       "      <td>1968.0</td>\n",
       "      <td>0</td>\n",
       "      <td>546.906450</td>\n",
       "      <td>1</td>\n",
       "      <td>0</td>\n",
       "      <td>0</td>\n",
       "      <td>0</td>\n",
       "      <td>0</td>\n",
       "      <td>0</td>\n",
       "      <td>0</td>\n",
       "      <td>0</td>\n",
       "    </tr>\n",
       "    <tr>\n",
       "      <th>1922</th>\n",
       "      <td>BMW</td>\n",
       "      <td>2993.0</td>\n",
       "      <td>0</td>\n",
       "      <td>552.696450</td>\n",
       "      <td>1</td>\n",
       "      <td>0</td>\n",
       "      <td>0</td>\n",
       "      <td>0</td>\n",
       "      <td>0</td>\n",
       "      <td>0</td>\n",
       "      <td>0</td>\n",
       "      <td>0</td>\n",
       "    </tr>\n",
       "    <tr>\n",
       "      <th>1025</th>\n",
       "      <td>BMW</td>\n",
       "      <td>1995.0</td>\n",
       "      <td>0</td>\n",
       "      <td>339.716450</td>\n",
       "      <td>1</td>\n",
       "      <td>0</td>\n",
       "      <td>0</td>\n",
       "      <td>0</td>\n",
       "      <td>0</td>\n",
       "      <td>0</td>\n",
       "      <td>0</td>\n",
       "      <td>0</td>\n",
       "    </tr>\n",
       "    <tr>\n",
       "      <th>936</th>\n",
       "      <td>BMW</td>\n",
       "      <td>1995.0</td>\n",
       "      <td>0</td>\n",
       "      <td>488.796450</td>\n",
       "      <td>1</td>\n",
       "      <td>0</td>\n",
       "      <td>0</td>\n",
       "      <td>0</td>\n",
       "      <td>0</td>\n",
       "      <td>0</td>\n",
       "      <td>0</td>\n",
       "      <td>0</td>\n",
       "    </tr>\n",
       "    <tr>\n",
       "      <th>3303</th>\n",
       "      <td>NISSAN</td>\n",
       "      <td>1198.0</td>\n",
       "      <td>5</td>\n",
       "      <td>355.648274</td>\n",
       "      <td>0</td>\n",
       "      <td>0</td>\n",
       "      <td>0</td>\n",
       "      <td>0</td>\n",
       "      <td>0</td>\n",
       "      <td>1</td>\n",
       "      <td>0</td>\n",
       "      <td>0</td>\n",
       "    </tr>\n",
       "  </tbody>\n",
       "</table>\n",
       "</div>"
      ],
      "text/plain": [
       "         Manufacturer  EngineCapacity  FuelType   Emissions  Diesel  \\\n",
       "926               BMW          1995.0         0  400.796450       1   \n",
       "775              AUDI          1968.0         0  454.696450       1   \n",
       "4007             MINI          1998.0         5  741.648274       0   \n",
       "3945    MERCEDES-BENZ          1991.0         5  685.648274       0   \n",
       "5027          PORSCHE          3996.0         5  573.648274       0   \n",
       "2452  VOLKSWAGEN C.V.          1968.0         0  546.906450       1   \n",
       "1922              BMW          2993.0         0  552.696450       1   \n",
       "1025              BMW          1995.0         0  339.716450       1   \n",
       "936               BMW          1995.0         0  488.796450       1   \n",
       "3303           NISSAN          1198.0         5  355.648274       0   \n",
       "\n",
       "      DieselElectric  Electricity  Electricity/Diesel  Electricity/Petrol  \\\n",
       "926                0            0                   0                   0   \n",
       "775                0            0                   0                   0   \n",
       "4007               0            0                   0                   0   \n",
       "3945               0            0                   0                   0   \n",
       "5027               0            0                   0                   0   \n",
       "2452               0            0                   0                   0   \n",
       "1922               0            0                   0                   0   \n",
       "1025               0            0                   0                   0   \n",
       "936                0            0                   0                   0   \n",
       "3303               0            0                   0                   0   \n",
       "\n",
       "      Petrol  PetrolElectric  PetrolHybrid  \n",
       "926        0               0             0  \n",
       "775        0               0             0  \n",
       "4007       1               0             0  \n",
       "3945       1               0             0  \n",
       "5027       1               0             0  \n",
       "2452       0               0             0  \n",
       "1922       0               0             0  \n",
       "1025       0               0             0  \n",
       "936        0               0             0  \n",
       "3303       1               0             0  "
      ]
     },
     "execution_count": 265,
     "metadata": {},
     "output_type": "execute_result"
    }
   ],
   "source": [
    "df.sample(10)"
   ]
  },
  {
   "cell_type": "code",
   "execution_count": 266,
   "metadata": {},
   "outputs": [
    {
     "data": {
      "text/plain": [
       "Index(['EngineCapacity', 'Emissions', 'Diesel', 'DieselElectric',\n",
       "       'Electricity', 'Electricity/Diesel', 'Electricity/Petrol', 'Petrol',\n",
       "       'PetrolElectric', 'PetrolHybrid'],\n",
       "      dtype='object')"
      ]
     },
     "execution_count": 266,
     "metadata": {},
     "output_type": "execute_result"
    }
   ],
   "source": [
    "#drop all the useless columns from the dataframe\n",
    "drop_col = ['Manufacturer','FuelType']\n",
    "\n",
    "df=df.drop(drop_col, axis=1) \n",
    "df.columns"
   ]
  },
  {
   "cell_type": "markdown",
   "metadata": {},
   "source": [
    "## Ploting the graph¶\n"
   ]
  },
  {
   "cell_type": "code",
   "execution_count": 272,
   "metadata": {},
   "outputs": [
    {
     "data": {
      "image/png": "[encoded data removed]",
      "text/plain": [
       "<matplotlib.figure.Figure at 0x279b525d828>"
      ]
     },
     "metadata": {},
     "output_type": "display_data"
    }
   ],
   "source": [
    "plt.scatter(df.EngineCapacity,df.Emissions, color=\"red\")\n",
    "plt.xlabel(\"Engine Capacity\")\n",
    "plt.ylabel(\"Emissions\")\n",
    "plt.show()"
   ]
  },
  {
   "cell_type": "markdown",
   "metadata": {},
   "source": [
    "## Splitting the train and test dataset¶\n"
   ]
  },
  {
   "cell_type": "code",
   "execution_count": 286,
   "metadata": {},
   "outputs": [],
   "source": [
    "features = df[['EngineCapacity']]\n",
    "goal = df['Emissions']\n",
    "# split the data\n",
    "from sklearn.model_selection import train_test_split\n",
    "train_set, test_set, goal_train, goal_test = train_test_split(features, goal, test_size =1/3, random_state = 0)"
   ]
  },
  {
   "cell_type": "markdown",
   "metadata": {},
   "source": [
    "## Modeling"
   ]
  },
  {
   "cell_type": "code",
   "execution_count": 287,
   "metadata": {},
   "outputs": [
    {
     "data": {
      "text/plain": [
       "LinearRegression(copy_X=True, fit_intercept=True, n_jobs=1, normalize=False)"
      ]
     },
     "execution_count": 287,
     "metadata": {},
     "output_type": "execute_result"
    }
   ],
   "source": [
    "from sklearn.linear_model import LinearRegression\n",
    "model = LinearRegression()\n",
    "model.fit(train_set, goal_train)"
   ]
  },
  {
   "cell_type": "markdown",
   "metadata": {},
   "source": [
    "## predictions"
   ]
  },
  {
   "cell_type": "code",
   "execution_count": 289,
   "metadata": {},
   "outputs": [
    {
     "data": {
      "text/plain": [
       "array([740.31639106, 514.40278676, 572.18633753, ..., 548.7605737 ,\n",
       "       594.5412093 , 549.92070677])"
      ]
     },
     "execution_count": 289,
     "metadata": {},
     "output_type": "execute_result"
    }
   ],
   "source": [
    "goal_predict = model.predict(test_set)\n",
    "goal_predict"
   ]
  },
  {
   "cell_type": "markdown",
   "metadata": {},
   "source": [
    "## Plotting the graph with best fit line"
   ]
  },
  {
   "cell_type": "code",
   "execution_count": 291,
   "metadata": {},
   "outputs": [
    {
     "data": {
      "image/png": "[encoded data removed]",
      "text/plain": [
       "<matplotlib.figure.Figure at 0x279b5079ef0>"
      ]
     },
     "metadata": {},
     "output_type": "display_data"
    }
   ],
   "source": [
    "plt.plot(test_set, goal_test,'.', test_set, goal_predict, '-')\n",
    "plt.title('our first simple model')\n",
    "plt.xlabel('Engine Capacity')\n",
    "plt.ylabel('Emissions')\n",
    "plt.show()"
   ]
  },
  {
   "cell_type": "code",
   "execution_count": null,
   "metadata": {},
   "outputs": [],
   "source": []
  }
 ],
 "metadata": {
  "kernelspec": {
   "display_name": "Python 3",
   "language": "python",
   "name": "python3"
  },
  "language_info": {
   "codemirror_mode": {
    "name": "ipython",
    "version": 3
   },
   "file_extension": ".py",
   "mimetype": "text/x-python",
   "name": "python",
   "nbconvert_exporter": "python",
   "pygments_lexer": "ipython3",
   "version": "3.6.4"
  }
 },
 "nbformat": 4,
 "nbformat_minor": 2
}
